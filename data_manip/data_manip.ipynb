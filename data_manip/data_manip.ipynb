{
 "cells": [
  {
   "cell_type": "markdown",
   "metadata": {
    "tags": [
     "style-commentate"
    ]
   },
   "source": [
    "Data Manipulation on modules grading dataset"
   ]
  },
  {
   "cell_type": "markdown",
   "metadata": {},
   "source": [
    "Before continuing import the pandas libraries. "
   ]
  },
  {
   "cell_type": "code",
   "execution_count": 1,
   "metadata": {
    "run_control": {
     "read_only": false
    }
   },
   "outputs": [],
   "source": [
    "import pandas as pd\n"
   ]
  },
  {
   "cell_type": "markdown",
   "metadata": {},
   "source": [
    "## Manip 1"
   ]
  },
  {
   "cell_type": "markdown",
   "metadata": {},
   "source": [
    "You have been given the following data which is the result of some initial analysis on a data source:"
   ]
  },
  {
   "cell_type": "code",
   "execution_count": 2,
   "metadata": {
    "run_control": {
     "read_only": false
    }
   },
   "outputs": [
    {
     "data": {
      "text/html": [
       "<div>\n",
       "<style scoped>\n",
       "    .dataframe tbody tr th:only-of-type {\n",
       "        vertical-align: middle;\n",
       "    }\n",
       "\n",
       "    .dataframe tbody tr th {\n",
       "        vertical-align: top;\n",
       "    }\n",
       "\n",
       "    .dataframe thead th {\n",
       "        text-align: right;\n",
       "    }\n",
       "</style>\n",
       "<table border=\"1\" class=\"dataframe\">\n",
       "  <thead>\n",
       "    <tr style=\"text-align: right;\">\n",
       "      <th></th>\n",
       "      <th>col1</th>\n",
       "      <th>col2</th>\n",
       "      <th>col3</th>\n",
       "    </tr>\n",
       "  </thead>\n",
       "  <tbody>\n",
       "    <tr>\n",
       "      <th>0</th>\n",
       "      <td>1</td>\n",
       "      <td>6.0</td>\n",
       "      <td>4.0</td>\n",
       "    </tr>\n",
       "    <tr>\n",
       "      <th>1</th>\n",
       "      <td>12</td>\n",
       "      <td>8.0</td>\n",
       "      <td>0.0</td>\n",
       "    </tr>\n",
       "    <tr>\n",
       "      <th>2</th>\n",
       "      <td>29</td>\n",
       "      <td>4.0</td>\n",
       "      <td>5.0</td>\n",
       "    </tr>\n",
       "    <tr>\n",
       "      <th>3</th>\n",
       "      <td>3</td>\n",
       "      <td>1.0</td>\n",
       "      <td>8.0</td>\n",
       "    </tr>\n",
       "    <tr>\n",
       "      <th>4</th>\n",
       "      <td>22</td>\n",
       "      <td>1.0</td>\n",
       "      <td>7.0</td>\n",
       "    </tr>\n",
       "  </tbody>\n",
       "</table>\n",
       "</div>"
      ],
      "text/plain": [
       "   col1  col2  col3\n",
       "0     1   6.0   4.0\n",
       "1    12   8.0   0.0\n",
       "2    29   4.0   5.0\n",
       "3     3   1.0   8.0\n",
       "4    22   1.0   7.0"
      ]
     },
     "execution_count": 2,
     "metadata": {},
     "output_type": "execute_result"
    }
   ],
   "source": [
    "\n",
    "t_df=pd.DataFrame()\n",
    "\n",
    "data1_ss=pd.Series([1, 12, 29, 3, 22, 4, 7, 10, 15, 26, 9, 18, 11, 29, 28, 0, 12, 3, 22, 29, 22, 7, 18, 14, 6, 18, 25, 26, 19, 20])\n",
    "t_df['col1']=data1_ss\n",
    "\n",
    "data2_ss=pd.Series([6, 8, 4, 1, 1, 7, 1, 2, 7, 0, 5, 3, 0, 2, 7, 4, 9, 9, 8, 1])\n",
    "t_df['col2']=data2_ss\n",
    "\n",
    "data3_ss=pd.Series([4, 0, 5, 8, 7, 7, 1, 6, 4, 2, 4, 6, 5, 8, 8, 1, 5, 6, 9, 2, 6, 7, 4, 7, 8])\n",
    "t_df['col3']=data3_ss\n",
    "\n",
    "t_df.head()"
   ]
  },
  {
   "cell_type": "markdown",
   "metadata": {},
   "source": [
    "Task: Which column in <code>t_df</code> contains the greatest total sum of numbers? (Write a short python routine to calculate the answer). "
   ]
  },
  {
   "cell_type": "code",
   "execution_count": 3,
   "metadata": {
    "run_control": {
     "read_only": false
    }
   },
   "outputs": [
    {
     "name": "stdout",
     "output_type": "stream",
     "text": [
      "col3\n"
     ]
    }
   ],
   "source": [
    "# answer:\n",
    "\n",
    "sum1=sum(t_df['col1'])\n",
    "sum2=sum(t_df['col2'])\n",
    "sum3=sum(t_df['col3'])\n",
    "\n",
    "if (sum1 > sum2) and (sum1 > sum3):\n",
    "    print('col1')    \n",
    "elif (sum2 > sum3):\n",
    "    print('col2')\n",
    "else:\n",
    "    print('col3')\n"
   ]
  },
  {
   "cell_type": "markdown",
   "metadata": {},
   "source": [
    "## Manip 2"
   ]
  },
  {
   "cell_type": "markdown",
   "metadata": {
    "collapsed": true,
    "run_control": {
     "read_only": false
    }
   },
   "source": [
    "You have been given the following python list:"
   ]
  },
  {
   "cell_type": "code",
   "execution_count": 4,
   "metadata": {
    "run_control": {
     "read_only": false
    }
   },
   "outputs": [],
   "source": [
    "testList_ls=[14.2, 12.3, 9.0, 41.1, 5.1, 20.6, 15.6, 1.1, 0.3, 4.7, 20.7, 38.6, 36.3, 38.2, 31.2, 13.9, 14.7, 4.5, 45.9, 36.0, 34.6, 32.4, 16.6, 23.1, 8.4, 14.7, 32.2, 43.1, 17.0, 13.1]"
   ]
  },
  {
   "cell_type": "markdown",
   "metadata": {},
   "source": [
    "Task: Using Python identify the 5 largest elements of <code>testList_ls</code>"
   ]
  },
  {
   "cell_type": "code",
   "execution_count": 5,
   "metadata": {
    "run_control": {
     "read_only": false
    }
   },
   "outputs": [
    {
     "data": {
      "text/plain": [
       "[38.2, 38.6, 41.1, 43.1, 45.9]"
      ]
     },
     "execution_count": 5,
     "metadata": {},
     "output_type": "execute_result"
    }
   ],
   "source": [
    "# answer\n",
    "\n",
    "testList_ls.sort()\n",
    "testList_ls[len(testList_ls)-5:len(testList_ls)]\n"
   ]
  },
  {
   "cell_type": "markdown",
   "metadata": {
    "collapsed": true,
    "run_control": {
     "read_only": false
    }
   },
   "source": [
    "You have now been given the following dataframe:"
   ]
  },
  {
   "cell_type": "code",
   "execution_count": 6,
   "metadata": {
    "run_control": {
     "read_only": false
    }
   },
   "outputs": [
    {
     "data": {
      "text/html": [
       "<div>\n",
       "<style scoped>\n",
       "    .dataframe tbody tr th:only-of-type {\n",
       "        vertical-align: middle;\n",
       "    }\n",
       "\n",
       "    .dataframe tbody tr th {\n",
       "        vertical-align: top;\n",
       "    }\n",
       "\n",
       "    .dataframe thead th {\n",
       "        text-align: right;\n",
       "    }\n",
       "</style>\n",
       "<table border=\"1\" class=\"dataframe\">\n",
       "  <thead>\n",
       "    <tr style=\"text-align: right;\">\n",
       "      <th></th>\n",
       "      <th>col1</th>\n",
       "      <th>col2</th>\n",
       "    </tr>\n",
       "  </thead>\n",
       "  <tbody>\n",
       "    <tr>\n",
       "      <th>0</th>\n",
       "      <td>a</td>\n",
       "      <td>3.6</td>\n",
       "    </tr>\n",
       "    <tr>\n",
       "      <th>1</th>\n",
       "      <td>b</td>\n",
       "      <td>19.3</td>\n",
       "    </tr>\n",
       "    <tr>\n",
       "      <th>2</th>\n",
       "      <td>c</td>\n",
       "      <td>4.2</td>\n",
       "    </tr>\n",
       "    <tr>\n",
       "      <th>3</th>\n",
       "      <td>d</td>\n",
       "      <td>0.9</td>\n",
       "    </tr>\n",
       "    <tr>\n",
       "      <th>4</th>\n",
       "      <td>e</td>\n",
       "      <td>10.2</td>\n",
       "    </tr>\n",
       "  </tbody>\n",
       "</table>\n",
       "</div>"
      ],
      "text/plain": [
       "  col1  col2\n",
       "0    a   3.6\n",
       "1    b  19.3\n",
       "2    c   4.2\n",
       "3    d   0.9\n",
       "4    e  10.2"
      ]
     },
     "execution_count": 6,
     "metadata": {},
     "output_type": "execute_result"
    }
   ],
   "source": [
    "testDataframe_df=pd.DataFrame({'col1':['a', 'b', 'c', 'd', 'e', 'f', 'g', 'h', 'i', 'j', 'k', 'l', 'm', 'n', 'o', 'p', 'q', 'r', 's', 't'],\n",
    "                               'col2':[3.6, 19.3, 4.2, 0.9, 10.2, 5.0, 45.3, 21.6, 4.6, 47.2, 40.4, 27.3, 13.9, 49.5, 37.8, 19.8, 36.5, 19.4, 0.3, 16.8]})\n",
    "\n",
    "testDataframe_df.head()"
   ]
  },
  {
   "cell_type": "markdown",
   "metadata": {},
   "source": [
    "Task: Identify the values of <code>col1</code> which appear with the 5 largest values in <code>col2</code>"
   ]
  },
  {
   "cell_type": "code",
   "execution_count": 7,
   "metadata": {
    "run_control": {
     "read_only": false
    }
   },
   "outputs": [
    {
     "data": {
      "text/plain": [
       "['p', 'q', 'r', 's', 't']"
      ]
     },
     "execution_count": 7,
     "metadata": {},
     "output_type": "execute_result"
    }
   ],
   "source": [
    "# answer\n",
    "\n",
    "testDataframe_df.sort_values(by=['col2'])\n",
    "sortedColumn_ls=list(testDataframe_df['col1'])\n",
    "\n",
    "sortedColumn_ls[len(sortedColumn_ls)-5:len(sortedColumn_ls)]"
   ]
  },
  {
   "cell_type": "markdown",
   "metadata": {},
   "source": [
    "## Manip 3"
   ]
  },
  {
   "cell_type": "markdown",
   "metadata": {
    "run_control": {
     "read_only": false
    }
   },
   "source": [
    "Task: Given the following list:"
   ]
  },
  {
   "cell_type": "code",
   "execution_count": 8,
   "metadata": {
    "run_control": {
     "read_only": false
    }
   },
   "outputs": [],
   "source": [
    "list_ls=[1, 9, 3, 5, 10, 4, 2, 0, 8, 7, 6]"
   ]
  },
  {
   "cell_type": "markdown",
   "metadata": {
    "run_control": {
     "read_only": false
    }
   },
   "source": [
    "map the members of the list onto a scaled list from 0 to 1. "
   ]
  },
  {
   "cell_type": "code",
   "execution_count": 9,
   "metadata": {
    "run_control": {
     "read_only": false
    }
   },
   "outputs": [
    {
     "data": {
      "text/plain": [
       "[0.1, 0.9, 0.3, 0.5, 1.0, 0.4, 0.2, 0.0, 0.8, 0.7, 0.6]"
      ]
     },
     "execution_count": 9,
     "metadata": {},
     "output_type": "execute_result"
    }
   ],
   "source": [
    "# answer:\n",
    "min_value = min(list_ls)\n",
    "max_value = max(list_ls)\n",
    "for i in range(len(list_ls)):\n",
    "    list_ls[i]=(list_ls[i]-min_value)/(max_value-min_value)\n",
    "    \n",
    "list_ls"
   ]
  },
  {
   "cell_type": "code",
   "execution_count": null,
   "metadata": {},
   "outputs": [],
   "source": []
  },
  {
   "cell_type": "markdown",
   "metadata": {},
   "source": [
    "## Manip 4\n",
    "\n",
    "You have been given a data that relates to a number of modules offered by an institution. The following code blocks load the libraries necessary and the data from a csv file for you so that you can perform some further analysis. "
   ]
  },
  {
   "cell_type": "code",
   "execution_count": 10,
   "metadata": {
    "run_control": {
     "read_only": false
    }
   },
   "outputs": [],
   "source": [
    "from pandasql import sqldf\n",
    "# then create a simple wrapper function that allows us to supply the query 'q' without the surrounding syntax.\n",
    "pysqldf = lambda q: sqldf(q, globals())"
   ]
  },
  {
   "cell_type": "code",
   "execution_count": 11,
   "metadata": {
    "run_control": {
     "read_only": false
    }
   },
   "outputs": [],
   "source": [
    "mixed_module_data_v2 = pd.read_csv('data/mixed_module_data_v2.csv');\n"
   ]
  },
  {
   "cell_type": "markdown",
   "metadata": {},
   "source": [
    "The first 5 rows of the supplied data are shown below. "
   ]
  },
  {
   "cell_type": "code",
   "execution_count": 12,
   "metadata": {
    "run_control": {
     "read_only": false
    },
    "scrolled": true
   },
   "outputs": [
    {
     "data": {
      "text/html": [
       "<div>\n",
       "<style scoped>\n",
       "    .dataframe tbody tr th:only-of-type {\n",
       "        vertical-align: middle;\n",
       "    }\n",
       "\n",
       "    .dataframe tbody tr th {\n",
       "        vertical-align: top;\n",
       "    }\n",
       "\n",
       "    .dataframe thead th {\n",
       "        text-align: right;\n",
       "    }\n",
       "</style>\n",
       "<table border=\"1\" class=\"dataframe\">\n",
       "  <thead>\n",
       "    <tr style=\"text-align: right;\">\n",
       "      <th></th>\n",
       "      <th>ModuleCode</th>\n",
       "      <th>Year</th>\n",
       "      <th>Student</th>\n",
       "      <th>Grade</th>\n",
       "    </tr>\n",
       "  </thead>\n",
       "  <tbody>\n",
       "    <tr>\n",
       "      <th>0</th>\n",
       "      <td>ME230</td>\n",
       "      <td>2020</td>\n",
       "      <td>SM</td>\n",
       "      <td>62</td>\n",
       "    </tr>\n",
       "    <tr>\n",
       "      <th>1</th>\n",
       "      <td>ME230</td>\n",
       "      <td>2020</td>\n",
       "      <td>PS</td>\n",
       "      <td>44</td>\n",
       "    </tr>\n",
       "    <tr>\n",
       "      <th>2</th>\n",
       "      <td>ME230</td>\n",
       "      <td>2020</td>\n",
       "      <td>QS</td>\n",
       "      <td>33</td>\n",
       "    </tr>\n",
       "    <tr>\n",
       "      <th>3</th>\n",
       "      <td>ME230</td>\n",
       "      <td>2020</td>\n",
       "      <td>TP</td>\n",
       "      <td>56</td>\n",
       "    </tr>\n",
       "    <tr>\n",
       "      <th>4</th>\n",
       "      <td>ME230</td>\n",
       "      <td>2020</td>\n",
       "      <td>SF</td>\n",
       "      <td>69</td>\n",
       "    </tr>\n",
       "  </tbody>\n",
       "</table>\n",
       "</div>"
      ],
      "text/plain": [
       "  ModuleCode  Year Student  Grade\n",
       "0      ME230  2020      SM     62\n",
       "1      ME230  2020      PS     44\n",
       "2      ME230  2020      QS     33\n",
       "3      ME230  2020      TP     56\n",
       "4      ME230  2020      SF     69"
      ]
     },
     "execution_count": 12,
     "metadata": {},
     "output_type": "execute_result"
    }
   ],
   "source": [
    "mixed_module_data_v2.head(5)"
   ]
  },
  {
   "cell_type": "markdown",
   "metadata": {},
   "source": [
    "Task a: Write an SQL query that will display the data associatesd with module codes ME230 and CS410"
   ]
  },
  {
   "cell_type": "code",
   "execution_count": 13,
   "metadata": {
    "run_control": {
     "read_only": false
    }
   },
   "outputs": [
    {
     "data": {
      "text/html": [
       "<div>\n",
       "<style scoped>\n",
       "    .dataframe tbody tr th:only-of-type {\n",
       "        vertical-align: middle;\n",
       "    }\n",
       "\n",
       "    .dataframe tbody tr th {\n",
       "        vertical-align: top;\n",
       "    }\n",
       "\n",
       "    .dataframe thead th {\n",
       "        text-align: right;\n",
       "    }\n",
       "</style>\n",
       "<table border=\"1\" class=\"dataframe\">\n",
       "  <thead>\n",
       "    <tr style=\"text-align: right;\">\n",
       "      <th></th>\n",
       "      <th>ModuleCode</th>\n",
       "      <th>Year</th>\n",
       "      <th>Student</th>\n",
       "      <th>Grade</th>\n",
       "    </tr>\n",
       "  </thead>\n",
       "  <tbody>\n",
       "    <tr>\n",
       "      <th>0</th>\n",
       "      <td>ME230</td>\n",
       "      <td>2020</td>\n",
       "      <td>SM</td>\n",
       "      <td>62</td>\n",
       "    </tr>\n",
       "    <tr>\n",
       "      <th>1</th>\n",
       "      <td>ME230</td>\n",
       "      <td>2020</td>\n",
       "      <td>PS</td>\n",
       "      <td>44</td>\n",
       "    </tr>\n",
       "    <tr>\n",
       "      <th>2</th>\n",
       "      <td>ME230</td>\n",
       "      <td>2020</td>\n",
       "      <td>QS</td>\n",
       "      <td>33</td>\n",
       "    </tr>\n",
       "    <tr>\n",
       "      <th>3</th>\n",
       "      <td>ME230</td>\n",
       "      <td>2020</td>\n",
       "      <td>TP</td>\n",
       "      <td>56</td>\n",
       "    </tr>\n",
       "    <tr>\n",
       "      <th>4</th>\n",
       "      <td>ME230</td>\n",
       "      <td>2020</td>\n",
       "      <td>SF</td>\n",
       "      <td>69</td>\n",
       "    </tr>\n",
       "    <tr>\n",
       "      <th>5</th>\n",
       "      <td>ME230</td>\n",
       "      <td>2020</td>\n",
       "      <td>RS</td>\n",
       "      <td>69</td>\n",
       "    </tr>\n",
       "    <tr>\n",
       "      <th>6</th>\n",
       "      <td>ME230</td>\n",
       "      <td>2021</td>\n",
       "      <td>RS</td>\n",
       "      <td>51</td>\n",
       "    </tr>\n",
       "    <tr>\n",
       "      <th>7</th>\n",
       "      <td>ME230</td>\n",
       "      <td>2020</td>\n",
       "      <td>OO</td>\n",
       "      <td>10</td>\n",
       "    </tr>\n",
       "    <tr>\n",
       "      <th>8</th>\n",
       "      <td>ME230</td>\n",
       "      <td>2020</td>\n",
       "      <td>PO</td>\n",
       "      <td>23</td>\n",
       "    </tr>\n",
       "    <tr>\n",
       "      <th>9</th>\n",
       "      <td>ME230</td>\n",
       "      <td>2020</td>\n",
       "      <td>NT</td>\n",
       "      <td>54</td>\n",
       "    </tr>\n",
       "    <tr>\n",
       "      <th>10</th>\n",
       "      <td>ME230</td>\n",
       "      <td>2020</td>\n",
       "      <td>PT</td>\n",
       "      <td>33</td>\n",
       "    </tr>\n",
       "    <tr>\n",
       "      <th>11</th>\n",
       "      <td>ME230</td>\n",
       "      <td>2020</td>\n",
       "      <td>TD</td>\n",
       "      <td>55</td>\n",
       "    </tr>\n",
       "    <tr>\n",
       "      <th>12</th>\n",
       "      <td>ME230</td>\n",
       "      <td>2020</td>\n",
       "      <td>FP</td>\n",
       "      <td>32</td>\n",
       "    </tr>\n",
       "    <tr>\n",
       "      <th>13</th>\n",
       "      <td>ME230</td>\n",
       "      <td>2020</td>\n",
       "      <td>KD</td>\n",
       "      <td>43</td>\n",
       "    </tr>\n",
       "    <tr>\n",
       "      <th>14</th>\n",
       "      <td>CS410</td>\n",
       "      <td>2020</td>\n",
       "      <td>TD</td>\n",
       "      <td>27</td>\n",
       "    </tr>\n",
       "    <tr>\n",
       "      <th>15</th>\n",
       "      <td>CS410</td>\n",
       "      <td>2020</td>\n",
       "      <td>FP</td>\n",
       "      <td>39</td>\n",
       "    </tr>\n",
       "    <tr>\n",
       "      <th>16</th>\n",
       "      <td>CS410</td>\n",
       "      <td>2020</td>\n",
       "      <td>KD</td>\n",
       "      <td>65</td>\n",
       "    </tr>\n",
       "    <tr>\n",
       "      <th>17</th>\n",
       "      <td>ME230</td>\n",
       "      <td>2022</td>\n",
       "      <td>SM</td>\n",
       "      <td>71</td>\n",
       "    </tr>\n",
       "    <tr>\n",
       "      <th>18</th>\n",
       "      <td>CS410</td>\n",
       "      <td>2021</td>\n",
       "      <td>SF</td>\n",
       "      <td>31</td>\n",
       "    </tr>\n",
       "    <tr>\n",
       "      <th>19</th>\n",
       "      <td>CS410</td>\n",
       "      <td>2023</td>\n",
       "      <td>RS</td>\n",
       "      <td>28</td>\n",
       "    </tr>\n",
       "    <tr>\n",
       "      <th>20</th>\n",
       "      <td>CS410</td>\n",
       "      <td>2023</td>\n",
       "      <td>NT</td>\n",
       "      <td>78</td>\n",
       "    </tr>\n",
       "    <tr>\n",
       "      <th>21</th>\n",
       "      <td>ME230</td>\n",
       "      <td>2023</td>\n",
       "      <td>SM</td>\n",
       "      <td>75</td>\n",
       "    </tr>\n",
       "    <tr>\n",
       "      <th>22</th>\n",
       "      <td>ME230</td>\n",
       "      <td>2023</td>\n",
       "      <td>LM</td>\n",
       "      <td>17</td>\n",
       "    </tr>\n",
       "    <tr>\n",
       "      <th>23</th>\n",
       "      <td>ME230</td>\n",
       "      <td>2023</td>\n",
       "      <td>TD</td>\n",
       "      <td>32</td>\n",
       "    </tr>\n",
       "    <tr>\n",
       "      <th>24</th>\n",
       "      <td>CS410</td>\n",
       "      <td>2021</td>\n",
       "      <td>QS</td>\n",
       "      <td>12</td>\n",
       "    </tr>\n",
       "  </tbody>\n",
       "</table>\n",
       "</div>"
      ],
      "text/plain": [
       "   ModuleCode  Year Student  Grade\n",
       "0       ME230  2020      SM     62\n",
       "1       ME230  2020      PS     44\n",
       "2       ME230  2020      QS     33\n",
       "3       ME230  2020      TP     56\n",
       "4       ME230  2020      SF     69\n",
       "5       ME230  2020      RS     69\n",
       "6       ME230  2021      RS     51\n",
       "7       ME230  2020      OO     10\n",
       "8       ME230  2020      PO     23\n",
       "9       ME230  2020      NT     54\n",
       "10      ME230  2020      PT     33\n",
       "11      ME230  2020      TD     55\n",
       "12      ME230  2020      FP     32\n",
       "13      ME230  2020      KD     43\n",
       "14      CS410  2020      TD     27\n",
       "15      CS410  2020      FP     39\n",
       "16      CS410  2020      KD     65\n",
       "17      ME230  2022      SM     71\n",
       "18      CS410  2021      SF     31\n",
       "19      CS410  2023      RS     28\n",
       "20      CS410  2023      NT     78\n",
       "21      ME230  2023      SM     75\n",
       "22      ME230  2023      LM     17\n",
       "23      ME230  2023      TD     32\n",
       "24      CS410  2021      QS     12"
      ]
     },
     "execution_count": 13,
     "metadata": {},
     "output_type": "execute_result"
    }
   ],
   "source": [
    "# answer\n",
    "query = '''\\\n",
    "SELECT * \\\n",
    "FROM mixed_module_data_v2 \\\n",
    "WHERE ModuleCode = \"ME230\" OR  ModuleCode = \"CS410\" \\\n",
    "'''\n",
    "result = pysqldf(query)\n",
    "result"
   ]
  },
  {
   "cell_type": "markdown",
   "metadata": {},
   "source": [
    "Task b: Write an SQL query to display modules which have an average grade higher than 50"
   ]
  },
  {
   "cell_type": "code",
   "execution_count": 14,
   "metadata": {
    "run_control": {
     "read_only": false
    },
    "scrolled": false
   },
   "outputs": [
    {
     "data": {
      "text/html": [
       "<div>\n",
       "<style scoped>\n",
       "    .dataframe tbody tr th:only-of-type {\n",
       "        vertical-align: middle;\n",
       "    }\n",
       "\n",
       "    .dataframe tbody tr th {\n",
       "        vertical-align: top;\n",
       "    }\n",
       "\n",
       "    .dataframe thead th {\n",
       "        text-align: right;\n",
       "    }\n",
       "</style>\n",
       "<table border=\"1\" class=\"dataframe\">\n",
       "  <thead>\n",
       "    <tr style=\"text-align: right;\">\n",
       "      <th></th>\n",
       "      <th>ModuleCode</th>\n",
       "    </tr>\n",
       "  </thead>\n",
       "  <tbody>\n",
       "    <tr>\n",
       "      <th>0</th>\n",
       "      <td>CS350</td>\n",
       "    </tr>\n",
       "    <tr>\n",
       "      <th>1</th>\n",
       "      <td>ME237</td>\n",
       "    </tr>\n",
       "  </tbody>\n",
       "</table>\n",
       "</div>"
      ],
      "text/plain": [
       "  ModuleCode\n",
       "0      CS350\n",
       "1      ME237"
      ]
     },
     "execution_count": 14,
     "metadata": {},
     "output_type": "execute_result"
    }
   ],
   "source": [
    "# answer\n",
    "query = ''' \\\n",
    "SELECT ModuleCode \\\n",
    "FROM mixed_module_data_v2 \\\n",
    "GROUP BY ModuleCode \\\n",
    "HAVING AVG(Grade) > 50 \\\n",
    "'''\n",
    "result = pysqldf(query)\n",
    "result"
   ]
  },
  {
   "cell_type": "code",
   "execution_count": null,
   "metadata": {
    "collapsed": true,
    "run_control": {
     "read_only": false
    }
   },
   "outputs": [],
   "source": []
  }
 ],
 "metadata": {
  "kernelspec": {
   "display_name": "Python 3",
   "language": "python",
   "name": "python3"
  },
  "language_info": {
   "codemirror_mode": {
    "name": "ipython",
    "version": 3
   },
   "file_extension": ".py",
   "mimetype": "text/x-python",
   "name": "python",
   "nbconvert_exporter": "python",
   "pygments_lexer": "ipython3",
   "version": "3.9.0"
  }
 },
 "nbformat": 4,
 "nbformat_minor": 1
}
